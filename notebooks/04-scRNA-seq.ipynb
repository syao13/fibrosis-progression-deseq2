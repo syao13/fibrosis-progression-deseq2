{
 "cells": [
  {
   "cell_type": "markdown",
   "id": "63046bb8-04e2-4903-bb59-e41656b99dc2",
   "metadata": {},
   "source": [
    "# Singel-cell RNA seq analysis\n",
    "\n",
    "There was another paper with good single cell RNA seq dataset available about fibrosis, that can complement the finding of previous analysis, link to [paper](https://www.ncbi.nlm.nih.gov/pmc/articles/PMC6856722/) and [dataset](https://www.ncbi.nlm.nih.gov/geo/query/acc.cgi?acc=GSE137720)."
   ]
  },
  {
   "cell_type": "code",
   "execution_count": null,
   "id": "b1f7db3a-20f3-4efc-8f1f-0d46eaab4ce1",
   "metadata": {},
   "outputs": [],
   "source": []
  }
 ],
 "metadata": {
  "kernelspec": {
   "display_name": "Python 3 (ipykernel)",
   "language": "python",
   "name": "python3"
  },
  "language_info": {
   "codemirror_mode": {
    "name": "ipython",
    "version": 3
   },
   "file_extension": ".py",
   "mimetype": "text/x-python",
   "name": "python",
   "nbconvert_exporter": "python",
   "pygments_lexer": "ipython3",
   "version": "3.10.14"
  }
 },
 "nbformat": 4,
 "nbformat_minor": 5
}
