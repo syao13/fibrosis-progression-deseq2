{
 "cells": [
  {
   "cell_type": "markdown",
   "id": "7d4a1e42-9116-412d-ba02-c01b3d920efa",
   "metadata": {},
   "source": [
    "Coming soon...\n",
    "\n",
    "This main objective of this notebook is try to to learn PyRosetta. I will select one of the pathway or one protein from previous, and try to run some machine learnig or protein language models."
   ]
  },
  {
   "cell_type": "code",
   "execution_count": null,
   "id": "3e088921-7bac-41e2-83eb-418261acfea8",
   "metadata": {},
   "outputs": [],
   "source": []
  }
 ],
 "metadata": {
  "kernelspec": {
   "display_name": "Python 3 (ipykernel)",
   "language": "python",
   "name": "python3"
  },
  "language_info": {
   "codemirror_mode": {
    "name": "ipython",
    "version": 3
   },
   "file_extension": ".py",
   "mimetype": "text/x-python",
   "name": "python",
   "nbconvert_exporter": "python",
   "pygments_lexer": "ipython3",
   "version": "3.10.14"
  }
 },
 "nbformat": 4,
 "nbformat_minor": 5
}
