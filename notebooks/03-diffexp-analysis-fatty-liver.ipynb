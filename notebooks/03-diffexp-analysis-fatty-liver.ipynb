{
 "cells": [
  {
   "cell_type": "markdown",
   "id": "9279fe65-7b44-42d6-9832-06e21f74023a",
   "metadata": {},
   "source": [
    "# Differential gene expression analysis\n",
    "\n",
    "## Setup"
   ]
  },
  {
   "cell_type": "code",
   "execution_count": 1,
   "id": "105cb086-aec4-49f2-8492-33e066dbc365",
   "metadata": {},
   "outputs": [],
   "source": [
    "import os\n",
    "import pandas as pd\n",
    "import pickle as pkl\n",
    "import matplotlib.pyplot as plt\n",
    "\n",
    "from pydeseq2.dds import DeseqDataSet\n",
    "from pydeseq2.default_inference import DefaultInference\n",
    "from pydeseq2.ds import DeseqStats"
   ]
  },
  {
   "cell_type": "code",
   "execution_count": 2,
   "id": "2411b255-41a4-40f9-96de-3a14293a1115",
   "metadata": {},
   "outputs": [],
   "source": [
    "%matplotlib inline\n",
    "\n",
    "pd.set_option('display.max_columns', None)\n",
    "pd.set_option('display.max_rows', None)\n",
    "pd.set_option('display.max_colwidth', None)"
   ]
  },
  {
   "cell_type": "markdown",
   "id": "3216ae68-8d8c-4dd5-bbc2-a13f7f73d798",
   "metadata": {},
   "source": [
    "## Import data"
   ]
  },
  {
   "cell_type": "code",
   "execution_count": null,
   "id": "e43e8168-0a08-48fc-90c1-20b0168a4b7c",
   "metadata": {},
   "outputs": [],
   "source": [
    "file_path = \"../datasets/E-MTAB-6863-raw-counts.tsv\"\n",
    "df = pd.read_csv(file_path, sep=\"\\t\", comment='#')\n",
    "df.head()"
   ]
  },
  {
   "cell_type": "code",
   "execution_count": null,
   "id": "072ae575-2734-4887-8a4f-ad04335d1db7",
   "metadata": {},
   "outputs": [],
   "source": [
    "# Examine all patients\n",
    "file_path = \"../datasets/E-MTAB-6863-experiment-design.tsv\"\n",
    "edf = pd.read_csv(file_path, sep=\"\\t\", comment='#')\n",
    "# edf = edf[edf[\"Sample Characteristic[disease]\"] == \"non-alcoholic fatty liver disease\"]\n",
    "edf.head()"
   ]
  },
  {
   "cell_type": "code",
   "execution_count": null,
   "id": "7516cf1c-07c5-411f-b6db-785a45ccc068",
   "metadata": {},
   "outputs": [],
   "source": [
    "# Filter counts df by only non-alcoholic fatty liver disease patients\n",
    "counts_df = df[[\"Gene ID\"] + edf[\"Run\"].tolist()] \n",
    "print(counts_df.shape)\n",
    "counts_df.head()"
   ]
  },
  {
   "cell_type": "markdown",
   "id": "47c40c5f-a4b5-4492-91cc-d680c1800d10",
   "metadata": {},
   "source": [
    "## EDA"
   ]
  },
  {
   "cell_type": "code",
   "execution_count": null,
   "id": "725f1dc2-7f9a-433a-82c2-65448108b3dd",
   "metadata": {},
   "outputs": [],
   "source": [
    "summary_df = counts_df.describe().round()\n",
    "summary_df.loc[\"sum\"] = summary_df.loc[\"count\"] * summary_df.loc[\"mean\"]\n",
    "summary_df"
   ]
  },
  {
   "cell_type": "code",
   "execution_count": null,
   "id": "4a401508-4109-4670-bf6e-cb0defe9ff2b",
   "metadata": {},
   "outputs": [],
   "source": [
    "# Filter the data with a threshold of ≥10 counts per million (CPM) in at least 20 samples (29%) was set\n",
    "threshold = summary_df.loc[\"sum\"]/1e6 * 10\n",
    "counts_df1 = counts_df[counts_df.columns[1:]]\n",
    "filtered_df = counts_df[(counts_df1 > threshold).sum(axis=1) >= 20]\n",
    "filtered_df.shape"
   ]
  },
  {
   "cell_type": "code",
   "execution_count": null,
   "id": "74f996b2-d001-4d3c-839f-4f5f65cab12c",
   "metadata": {},
   "outputs": [],
   "source": [
    "filtered_df = filtered_df.set_index(\"Gene ID\")\n",
    "filtered_df.head()"
   ]
  },
  {
   "cell_type": "markdown",
   "id": "8b22e7b2-1cfc-428c-a8ad-c58c2412b837",
   "metadata": {},
   "source": [
    "### PCA analysis"
   ]
  },
  {
   "cell_type": "code",
   "execution_count": null,
   "id": "7bc80963-aed0-448f-88c2-9baa97de4883",
   "metadata": {},
   "outputs": [],
   "source": [
    "import numpy as np\n",
    "from sklearn.decomposition import PCA\n",
    "from sklearn.preprocessing import StandardScaler\n",
    "\n",
    "pca = PCA(n_components=3)\n",
    "normalized_df=pd.DataFrame(StandardScaler().fit_transform(filtered_df))\n",
    "\n",
    "pca.fit(normalized_df)\n",
    "print(pca.explained_variance_ratio_)\n",
    "print(pca.singular_values_)"
   ]
  },
  {
   "cell_type": "code",
   "execution_count": null,
   "id": "7a7616b1-52cd-4deb-9dd1-8bafa2655183",
   "metadata": {},
   "outputs": [],
   "source": [
    "projected = pca.fit_transform(normalized_df)\n",
    "print(normalized_df.shape)\n",
    "print(projected.shape)"
   ]
  },
  {
   "cell_type": "code",
   "execution_count": null,
   "id": "057433b8-a624-4e56-a7a8-b2ab4565140d",
   "metadata": {},
   "outputs": [],
   "source": [
    "y=edf[\"Sample Characteristic[disease staging]\"]\n",
    "\n",
    "ex_variance=np.var(projected,axis=0)\n",
    "ex_variance_ratio = ex_variance/np.sum(ex_variance)\n",
    "ex_variance_ratio\n",
    "\n",
    "\n",
    "Xax = projected[:,0]\n",
    "Yax = projected[:,1]\n",
    "Zax = projected[:,2]\n",
    "\n",
    "cdict = {'early':'red','advanced':'green'}\n",
    "labl = {'early':'Early','advanced':'Advanced'}\n",
    "marker = {'early':'*','advanced':'o'}\n",
    "alpha = {'early':.3, 'advanced':.5}\n",
    "\n",
    "fig = plt.figure(figsize=(7,5))\n",
    "ax = fig.add_subplot(111, projection='3d')\n",
    "\n",
    "fig.patch.set_facecolor('white')\n",
    "for l in np.unique(y):\n",
    " ix=np.where(y==l)\n",
    " ax.scatter(Xax[ix], Yax[ix], Zax[ix], c=cdict[l], s=40,\n",
    "           label=labl[l], marker=marker[l], alpha=alpha[l])\n",
    "# for loop ends\n",
    "ax.set_xlabel(\"Component 1\", fontsize=14)\n",
    "ax.set_ylabel(\"Component 2\", fontsize=14)\n",
    "ax.set_zlabel(\"Component 3\", fontsize=14)\n",
    "\n",
    "ax.legend()\n",
    "plt.show()"
   ]
  },
  {
   "cell_type": "code",
   "execution_count": null,
   "id": "3f7cd009-627c-454f-b646-d7f78c574d50",
   "metadata": {},
   "outputs": [],
   "source": [
    "filtered_df.head()"
   ]
  },
  {
   "cell_type": "code",
   "execution_count": null,
   "id": "34438fe1-77c3-48e0-9038-cd0128bb3b4c",
   "metadata": {},
   "outputs": [],
   "source": [
    "filtered_df = filtered_df.T\n",
    "filtered_df.head()"
   ]
  },
  {
   "cell_type": "code",
   "execution_count": null,
   "id": "38d109d6-53ad-4fa3-b17f-f62ed9e3c725",
   "metadata": {
    "scrolled": true
   },
   "outputs": [],
   "source": [
    "metadata = edf[[\"Run\",\"Sample Characteristic[disease]\", \"Sample Characteristic[disease staging]\"]]\n",
    "metadata = metadata.rename(columns={\"Sample Characteristic[disease]\": \"condition\", \n",
    "                         \"Sample Characteristic[disease staging]\": \"stage\"})\n",
    "metadata = metadata.set_index(\"Run\")\n",
    "metadata"
   ]
  },
  {
   "cell_type": "code",
   "execution_count": null,
   "id": "96044075-5fe1-4bd1-a65c-498771f0e264",
   "metadata": {},
   "outputs": [],
   "source": [
    "# samples_to_keep = ~metadata.condition.isna()\n",
    "# counts_df = counts_df.loc[samples_to_keep]\n",
    "# metadata = metadata.loc[samples_to_keep]"
   ]
  },
  {
   "cell_type": "code",
   "execution_count": null,
   "id": "edd643ba-1916-4319-89dc-d1fa5bef388f",
   "metadata": {},
   "outputs": [],
   "source": [
    "# counts_df = counts_df.fillna(0)\n",
    "# genes_to_keep = counts_df.columns[counts_df.sum(axis=0) >= 10]\n",
    "# counts_df = counts_df[genes_to_keep]"
   ]
  },
  {
   "cell_type": "code",
   "execution_count": null,
   "id": "09f57f62-6760-4552-99d4-8a4282da3681",
   "metadata": {},
   "outputs": [],
   "source": [
    "# counts_df = counts_df.round(0)\n",
    "# counts_df.head()"
   ]
  },
  {
   "cell_type": "code",
   "execution_count": null,
   "id": "8ba41da4-0109-44b9-9c63-197a3c33901e",
   "metadata": {},
   "outputs": [],
   "source": [
    "filtered_df.shape"
   ]
  },
  {
   "cell_type": "code",
   "execution_count": null,
   "id": "62d3bc7c-f0d9-4327-ac3e-d9be05d2dce9",
   "metadata": {},
   "outputs": [],
   "source": [
    "counts_df = counts_df.T\n",
    "# counts_df.columns = counts_df.loc[\"Gene ID\"]\n",
    "# counts_df = counts_df[1:]\n",
    "counts_df.head(5)"
   ]
  },
  {
   "cell_type": "markdown",
   "id": "edf4ad0f-604a-4d06-ad53-7a8c4232d136",
   "metadata": {},
   "source": [
    "## Differential expression analysis"
   ]
  },
  {
   "cell_type": "code",
   "execution_count": null,
   "id": "ac06c5a1-b404-41a4-a876-2c7ab232252b",
   "metadata": {},
   "outputs": [],
   "source": [
    "inference = DefaultInference(n_cpus=8)\n",
    "dds = DeseqDataSet(\n",
    "    counts=counts_df,\n",
    "    metadata=metadata,\n",
    "    design_factors=\"stage\",\n",
    "    refit_cooks=True,\n",
    ")"
   ]
  },
  {
   "cell_type": "code",
   "execution_count": null,
   "id": "ab740c4a-d360-4495-bacc-773214d06bca",
   "metadata": {},
   "outputs": [],
   "source": [
    "dds.deseq2()"
   ]
  },
  {
   "cell_type": "code",
   "execution_count": null,
   "id": "d5259488-c430-4eaf-a137-1b36924f0b10",
   "metadata": {},
   "outputs": [],
   "source": [
    "print(dds)"
   ]
  },
  {
   "cell_type": "code",
   "execution_count": null,
   "id": "0d5cb4f2-a3e2-476e-b087-24796c97918e",
   "metadata": {},
   "outputs": [],
   "source": [
    "stat_res = DeseqStats(dds, inference=inference)"
   ]
  },
  {
   "cell_type": "code",
   "execution_count": null,
   "id": "6ab601fd-be45-457a-a5c6-b2c5ebb3db02",
   "metadata": {
    "scrolled": true
   },
   "outputs": [],
   "source": [
    "stat_res.summary()\n",
    "stat_res.results_df[:10]"
   ]
  },
  {
   "cell_type": "code",
   "execution_count": null,
   "id": "0296c8a9-f5ef-4524-bd6b-727c8db0d728",
   "metadata": {
    "scrolled": true
   },
   "outputs": [],
   "source": [
    "results_df = stat_res.results_df.sort_values(by=[\"padj\"])\n",
    "results_df.head(10)"
   ]
  },
  {
   "cell_type": "code",
   "execution_count": null,
   "id": "474f35e2-c8c5-4205-ab9a-7fc505c45bce",
   "metadata": {},
   "outputs": [],
   "source": [
    "sum(results_df.padj < 0.05)"
   ]
  },
  {
   "cell_type": "code",
   "execution_count": null,
   "id": "7436c2dc-8cd4-482c-9b3b-962738f064c8",
   "metadata": {},
   "outputs": [],
   "source": []
  },
  {
   "cell_type": "markdown",
   "id": "cdc1cd62-68e1-4b61-a7b8-1b0bec89b14c",
   "metadata": {},
   "source": [
    "## Preping gene list"
   ]
  },
  {
   "cell_type": "code",
   "execution_count": null,
   "id": "2317ddb2-412c-4425-98ea-33743a190b18",
   "metadata": {},
   "outputs": [],
   "source": [
    "gene_list = df['Gene Name'][(df['Gene ID'].isin(results_df.iloc[:99].index.tolist())) & (~df['Gene Name'].isna())]"
   ]
  },
  {
   "cell_type": "code",
   "execution_count": null,
   "id": "bc69a852-ac3e-43a8-b1f3-86c356e51666",
   "metadata": {},
   "outputs": [],
   "source": [
    "\"','\".join(gene_list.tolist())"
   ]
  },
  {
   "cell_type": "code",
   "execution_count": null,
   "id": "7b12f5b5-d011-4114-af70-185ba2ed4912",
   "metadata": {},
   "outputs": [],
   "source": []
  }
 ],
 "metadata": {
  "kernelspec": {
   "display_name": "Python 3 (ipykernel)",
   "language": "python",
   "name": "python3"
  },
  "language_info": {
   "codemirror_mode": {
    "name": "ipython",
    "version": 3
   },
   "file_extension": ".py",
   "mimetype": "text/x-python",
   "name": "python",
   "nbconvert_exporter": "python",
   "pygments_lexer": "ipython3",
   "version": "3.10.14"
  }
 },
 "nbformat": 4,
 "nbformat_minor": 5
}
